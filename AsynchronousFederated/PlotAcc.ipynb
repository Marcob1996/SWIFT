{
 "cells": [
  {
   "cell_type": "code",
   "execution_count": 11,
   "id": "9d0726a6",
   "metadata": {},
   "outputs": [],
   "source": [
    "import matplotlib.pyplot as plt\n",
    "import numpy as np"
   ]
  },
  {
   "cell_type": "code",
   "execution_count": 8,
   "id": "f3fcc55d",
   "metadata": {},
   "outputs": [],
   "source": [
    "#extract\n",
    "#Parameters:\n",
    "#   folder_name: Outermost folder where experiments livem specified in train.py\n",
    "#   exp_name: Name of the experiment, specified in train.py\n",
    "#   size: # of workers\n",
    "#   epochs: # of epochs\n",
    "#Output:\n",
    "#   A dictionary containing a complete list of results. \n",
    "def extract(folder_name,exp_name,size,epochs):\n",
    "    \n",
    "    def train_acc(subfolder,worker_dic,rank):\n",
    "        with open(subfolder+'/dsgd-r'+rank+'-acc.log', 'r') as reader:\n",
    "            # Read and print the entire file line by line (epoch by epoch)\n",
    "            rank = int(rank)\n",
    "            line = reader.readline()\n",
    "            while line != '':  # The EOF char is an empty string\n",
    "                worker_dic[rank][\"train-acc\"].append(float(line))\n",
    "                line = reader.readline()\n",
    "    def comm_time(subfolder,worker_dic,rank):\n",
    "        with open(subfolder+'/dsgd-r'+rank+'-commtime.log', 'r') as reader:\n",
    "            # Read and print the entire file line by line (epoch by epoch)\n",
    "            rank = int(rank)\n",
    "            line = reader.readline()\n",
    "            while line != '':  # The EOF char is an empty string\n",
    "                worker_dic[rank][\"comm-time\"].append(float(line))\n",
    "                line = reader.readline()\n",
    "    def comp_time(subfolder,worker_dic,rank):\n",
    "        with open(subfolder+'/dsgd-r'+rank+'-comptime.log', 'r') as reader:\n",
    "            # Read and print the entire file line by line (epoch by epoch)\n",
    "            rank = int(rank)\n",
    "            line = reader.readline()\n",
    "            while line != '':  # The EOF char is an empty string\n",
    "                worker_dic[rank][\"comp-time\"].append(float(line))\n",
    "                line = reader.readline()\n",
    "    def epoch_time(subfolder,worker_dic,rank):\n",
    "        with open(subfolder+'/dsgd-r'+rank+'-epoch-time.log', 'r') as reader:\n",
    "            # Read and print the entire file line by line (epoch by epoch)\n",
    "            rank = int(rank)\n",
    "            line = reader.readline()\n",
    "            while line != '':  # The EOF char is an empty string\n",
    "                worker_dic[rank][\"comp-time\"].append(float(line))\n",
    "                line = reader.readline()\n",
    "    def loss(subfolder,worker_dic,rank):\n",
    "        with open(subfolder+'/dsgd-r'+rank+'-losses.log', 'r') as reader:\n",
    "            # Read and print the entire file line by line (epoch by epoch)\n",
    "            rank = int(rank)\n",
    "            line = reader.readline()\n",
    "            while line != '':  # The EOF char is an empty string\n",
    "                worker_dic[rank][\"loss\"].append(float(line))\n",
    "                line = reader.readline()            \n",
    "    def test_acc(subfolder,worker_dic,rank):\n",
    "        with open(subfolder+'/dsgd-r'+rank+'-tacc.log', 'r') as reader:\n",
    "            # Read and print the entire file line by line (epoch by epoch)\n",
    "            rank = int(rank)\n",
    "            line = reader.readline()\n",
    "            while line != '':  # The EOF char is an empty string\n",
    "                worker_dic[rank][\"test-acc\"].append(float(line))\n",
    "                line = reader.readline()\n",
    "    def val_acc(subfolder,worker_dic,rank):\n",
    "        with open(subfolder+'/dsgd-r'+rank+'-vacc.log', 'r') as reader:\n",
    "            # Read and print the entire file line by line (epoch by epoch)\n",
    "            rank = int(rank)\n",
    "            line = reader.readline()\n",
    "            while line != '':  # The EOF char is an empty string\n",
    "                worker_dic[rank][\"val-acc\"].append(float(line))\n",
    "                line = reader.readline()\n",
    "    def total_time(subfolder,worker_dic,rank):\n",
    "        with open(subfolder+'/dsgd-r'+rank+'-total-time.log', 'r') as reader:\n",
    "            # Read and print the entire file line by line (epoch by epoch)\n",
    "            rank = int(rank)\n",
    "            line = reader.readline()\n",
    "            while line != '':  # The EOF char is an empty string\n",
    "                worker_dic[rank][\"total-time\"].append(float(line))\n",
    "                line = reader.readline()\n",
    "    output_folder=folder_name+'/run-'+exp_name+'-'+str(epochs)+'epochs'\n",
    "    worker_results={}\n",
    "    for rank in range(size):\n",
    "        worker_results[rank]={}\n",
    "        worker_results[rank][\"train-acc\"]=[]\n",
    "        worker_results[rank][\"comm-time\"]=[]\n",
    "        worker_results[rank][\"comp-time\"]=[]\n",
    "        worker_results[rank][\"epoch-time\"]=[]\n",
    "        worker_results[rank][\"loss\"]=[]\n",
    "        worker_results[rank][\"test-acc\"]=[]\n",
    "        worker_results[rank][\"val-acc\"]=[]\n",
    "        worker_results[rank][\"total-time\"]=[]\n",
    "        train_acc(output_folder,worker_results,str(rank))\n",
    "        comm_time(output_folder,worker_results,str(rank))\n",
    "        comp_time(output_folder,worker_results,str(rank))\n",
    "        epoch_time(output_folder,worker_results,str(rank))\n",
    "        loss(output_folder,worker_results,str(rank))\n",
    "        test_acc(output_folder,worker_results,str(rank))\n",
    "        val_acc(output_folder,worker_results,str(rank))\n",
    "        total_time(output_folder,worker_results,str(rank))\n",
    "        \n",
    "    return worker_results"
   ]
  },
  {
   "cell_type": "code",
   "execution_count": 13,
   "id": "dff076ff",
   "metadata": {},
   "outputs": [],
   "source": [
    "#plot_experiment\n",
    "#Parameters:\n",
    "#   worker_dic: output from extract()\n",
    "#   size: number of workers\n",
    "#   epochs: # of epochs\n",
    "#   key: type of data desired. Ex: \"train-acc\", \"comm-time\", etc.\n",
    "#Output:\n",
    "#.  A plot of the experiment for given key. \n",
    "def plot_experiment(worker_dic, size, epochs, key):\n",
    "    x=range(epochs)\n",
    "    for i in range(size):\n",
    "        worker_data=worker_dic[i][key]\n",
    "        plt.plot(x,worker_data)\n",
    "    plt.show()"
   ]
  },
  {
   "cell_type": "code",
   "execution_count": 15,
   "id": "c1871b37",
   "metadata": {},
   "outputs": [
    {
     "data": {
      "image/png": "[encoded data removed]",
      "text/plain": [
       "<Figure size 432x288 with 1 Axes>"
      ]
     },
     "metadata": {
      "needs_background": "light"
     },
     "output_type": "display_data"
    }
   ],
   "source": [
    "#Example graphing test accuracies by epoch. \n",
    "\n",
    "#Generate worker dictionary. \n",
    "worker_results=extract('OutputPersonalized','square-pers',4,15)\n",
    "#Now plot.\n",
    "plot_experiment(worker_results,4,15,'test-acc')"
   ]
  },
  {
   "cell_type": "code",
   "execution_count": null,
   "id": "27ad995a",
   "metadata": {},
   "outputs": [],
   "source": []
  }
 ],
 "metadata": {
  "kernelspec": {
   "display_name": "Python 3",
   "language": "python",
   "name": "python3"
  },
  "language_info": {
   "codemirror_mode": {
    "name": "ipython",
    "version": 3
   },
   "file_extension": ".py",
   "mimetype": "text/x-python",
   "name": "python",
   "nbconvert_exporter": "python",
   "pygments_lexer": "ipython3",
   "version": "3.6.8"
  }
 },
 "nbformat": 4,
 "nbformat_minor": 5
}
